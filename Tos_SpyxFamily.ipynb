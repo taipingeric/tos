{
  "cells": [
    {
      "cell_type": "code",
      "source": [
        "import numpy as np\n",
        "import matplotlib.pyplot as plt\n",
        "from tqdm.auto import tqdm\n",
        "import pandas as pd"
      ],
      "metadata": {
        "id": "jKe4uy3XhJVN"
      },
      "execution_count": 12,
      "outputs": []
    },
    {
      "cell_type": "code",
      "source": [
        "prize_prob = 0.045\n",
        "\n",
        "result = np.random.choice(np.arange(0, 4), \n",
        "                          p=[prize_prob, prize_prob, prize_prob, 1-prize_prob*3], \n",
        "                          size=(10000))"
      ],
      "metadata": {
        "id": "Tg1LNpQLhKTn"
      },
      "execution_count": 2,
      "outputs": []
    },
    {
      "cell_type": "code",
      "source": [
        "idx, counts = np.unique(result, return_counts=True)\n",
        "idx, counts"
      ],
      "metadata": {
        "id": "Sc6hW8gqhntf",
        "outputId": "1d16d13c-b92a-490d-a10b-78a175d566ad",
        "colab": {
          "base_uri": "https://localhost:8080/"
        }
      },
      "execution_count": 3,
      "outputs": [
        {
          "output_type": "execute_result",
          "data": {
            "text/plain": [
              "(array([0, 1, 2, 3]), array([ 424,  438,  472, 8666]))"
            ]
          },
          "metadata": {},
          "execution_count": 3
        }
      ]
    },
    {
      "cell_type": "code",
      "source": [
        "plt.bar([\"Loid\", \"Yor\", \"Anya\", \"Shit\"], counts)\n",
        "plt.show()"
      ],
      "metadata": {
        "id": "Q3fOpsRmhyrT",
        "outputId": "a1e9781b-ab75-4775-8f08-a8fafb913f7f",
        "colab": {
          "base_uri": "https://localhost:8080/",
          "height": 265
        }
      },
      "execution_count": 4,
      "outputs": [
        {
          "output_type": "display_data",
          "data": {
            "text/plain": [
              "<Figure size 432x288 with 1 Axes>"
            ],
            "image/png": "[encoded data removed]"
          },
          "metadata": {
            "needs_background": "light"
          }
        }
      ]
    },
    {
      "cell_type": "code",
      "source": [
        "# 停止抽卡條件:三大獎都有\n",
        "# exchanged: 百搭卡數\n",
        "# pool: 目前已抽卡池\n",
        "def stop(pool, exchanged):\n",
        "    obtained = exchanged + sum(1 for i in range(3) if pool[i]>0)\n",
        "    return obtained >= 3\n",
        "\n",
        "# 停止抽卡條件: 抽到大獎\n",
        "def stop_first(pool):\n",
        "    return pool[0] > 0\n",
        "# 停止抽卡條件: 抽到全部大獎\n",
        "def stop_all(pool):\n",
        "    return pool[0] > 0 and pool[1] > 0 and pool[2] > 0\n",
        "\n",
        "def draw(prize_prob):\n",
        "    if isinstance(prize_prob, float):\n",
        "        result = np.random.choice(np.arange(0, 4), \n",
        "                                p=[prize_prob, prize_prob, prize_prob, 1-prize_prob*3])\n",
        "    elif isinstance(prize_prob, list):\n",
        "        probs = list(prize_prob)\n",
        "        probs.append(1-sum(probs))\n",
        "        result = np.random.choice(np.arange(0, 4), \n",
        "                                  p=probs)\n",
        "    return result\n",
        "\n",
        "# 家家酒抽卡\n",
        "def draw_round(prize_prob):\n",
        "    draw_id = 0\n",
        "    pool = [0, 0, 0, 0]\n",
        "    coins = 100\n",
        "    exchanged = 0\n",
        "\n",
        "    while(not stop(pool, exchanged)):\n",
        "        card_id = draw(prize_prob)\n",
        "        draw_id += 1\n",
        "        coins += 10\n",
        "        pool[card_id] += 1\n",
        "        if draw_id % 10 == 0:\n",
        "            coins += 30\n",
        "        \n",
        "        if stop(pool, exchanged):\n",
        "            return draw_id, pool\n",
        "\n",
        "        if coins == 250:\n",
        "            exchanged += 1\n",
        "            coins -= 250\n",
        "    return draw_id, pool\n",
        "\n",
        "# 一般抽卡\n",
        "def draw_round_simple(prize_prob, stop_criterion):\n",
        "    draw_id = 0\n",
        "    pool = [0, 0, 0, 0]\n",
        "\n",
        "    while(not stop_criterion(pool)):\n",
        "        card_id = draw(prize_prob)\n",
        "        draw_id += 1\n",
        "        pool[card_id] += 1\n",
        "        \n",
        "        if draw_id % 40 == 0:\n",
        "            pool[0] += 1\n",
        "    return draw_id, pool"
      ],
      "metadata": {
        "id": "HKnrKWzyh0fj"
      },
      "execution_count": 32,
      "outputs": []
    },
    {
      "cell_type": "code",
      "source": [
        "probs = [0.001, 0.002, 0.003, 0.004, 0.005, 0.006, 0.007, 0.008, 0.009 ,0.01, 0.015, 0.02, 0.03, 0.045, 0.05, 0.1]\n",
        "ROUNDS = 10000\n",
        "avg_stones = []\n",
        "\n",
        "for p in probs:\n",
        "    total_stones = 0    \n",
        "    for i in tqdm(range(ROUNDS)):\n",
        "        draw_times, _ = draw_round(p)\n",
        "        stones = draw_times * 5\n",
        "        total_stones += stones\n",
        "\n",
        "    avg_stones.append(total_stones / ROUNDS )"
      ],
      "metadata": {
        "id": "HTUhOgQPldyx"
      },
      "execution_count": null,
      "outputs": []
    },
    {
      "cell_type": "code",
      "source": [
        "# 一般合作\n",
        "\n",
        "ROUNDS = 10000\n",
        "total_stones = 0    \n",
        "for i in tqdm(range(ROUNDS)):\n",
        "    draw_times, _ = draw_round_simple([0.025, 0.1, 0.1], stop_all)\n",
        "    stones = draw_times * 5\n",
        "    total_stones += stones\n",
        "\n",
        "total_stones / ROUNDS\n",
        "\n",
        "# 72.4 : first only\n",
        "# 144.604: all"
      ],
      "metadata": {
        "colab": {
          "base_uri": "https://localhost:8080/",
          "height": 67,
          "referenced_widgets": [
            "2d79caa1bb4c4398aa2a2a654aaf5f81",
            "b81f135fe7eb421192b6b12b658279d7",
            "ead187b59d5d4489a8eb2de00f2880a1",
            "d5c06e181def4fb98b986fba5cc91212",
            "bd569f8588a74719a24ea0cc3e5bc9b1",
            "77b0d4de5dee41979801da450edfa4ec",
            "dedb48c9126e4a4b86f9452e9e8783c7",
            "b9fc133d2ef3498cb9b56a3dbad4c765",
            "f55e14c9ae2d463aa772fe423d24021c",
            "2abca0fbd7f44a7aaee38dc6ceda13a9",
            "690fdd9ad89f40d69c9c92b97886d886"
          ]
        },
        "id": "JmRQgHubOZfq",
        "outputId": "f1998350-b964-4b31-eba3-8ebdc8b9e24c"
      },
      "execution_count": 33,
      "outputs": [
        {
          "output_type": "display_data",
          "data": {
            "text/plain": [
              "  0%|          | 0/10000 [00:00<?, ?it/s]"
            ],
            "application/vnd.jupyter.widget-view+json": {
              "version_major": 2,
              "version_minor": 0,
              "model_id": "2d79caa1bb4c4398aa2a2a654aaf5f81"
            }
          },
          "metadata": {}
        },
        {
          "output_type": "execute_result",
          "data": {
            "text/plain": [
              "144.604"
            ]
          },
          "metadata": {},
          "execution_count": 33
        }
      ]
    },
    {
      "cell_type": "code",
      "source": [
        "plt.figure(figsize=(10, 10))\n",
        "plt.plot(probs, avg_stones, marker=\"o\")\n",
        "for a,b in zip(probs, avg_stones): \n",
        "    plt.text(a, b, f'. {b:.1f}: {a*100:.1f}%', fontsize=20)\n",
        "plt.xlabel('Prize Prob')\n",
        "plt.ylabel('Stones')\n",
        "plt.show()"
      ],
      "metadata": {
        "id": "CrLcWCWFoLXA",
        "outputId": "541a0ae3-b952-4074-95d0-f38220879066",
        "colab": {
          "base_uri": "https://localhost:8080/",
          "height": 606
        }
      },
      "execution_count": 18,
      "outputs": [
        {
          "output_type": "display_data",
          "data": {
            "text/plain": [
              "<Figure size 720x720 with 1 Axes>"
            ],
            "image/png": "[encoded data removed]"
          },
          "metadata": {
            "needs_background": "light"
          }
        }
      ]
    },
    {
      "cell_type": "code",
      "source": [
        "df = pd.DataFrame({\"大獎機率(%)\": probs, \n",
        "                   \"平均石頭\": avg_stones})\n",
        "df[\"大獎機率(%)\"] *= 100\n",
        "df[\"平均抽\"] = df[\"平均石頭\"] / 5\n",
        "df\n",
        "# for p, s in zip(probs, avg_stones):\n",
        "#     print(p, s)"
      ],
      "metadata": {
        "id": "RHA3fvKXqd3_",
        "outputId": "24ec641f-a4bb-497b-929f-206129396a35",
        "colab": {
          "base_uri": "https://localhost:8080/",
          "height": 551
        }
      },
      "execution_count": 17,
      "outputs": [
        {
          "output_type": "execute_result",
          "data": {
            "text/plain": [
              "    大獎機率(%)      平均石頭      平均抽\n",
              "0       0.1  238.8390  47.7678\n",
              "1       0.2  229.1755  45.8351\n",
              "2       0.3  220.3160  44.0632\n",
              "3       0.4  211.5660  42.3132\n",
              "4       0.5  203.7500  40.7500\n",
              "5       0.6  197.3915  39.4783\n",
              "6       0.7  191.6595  38.3319\n",
              "7       0.8  184.8565  36.9713\n",
              "8       0.9  180.0995  36.0199\n",
              "9       1.0  173.3250  34.6650\n",
              "10      1.5  153.2385  30.6477\n",
              "11      2.0  137.6980  27.5396\n",
              "12      3.0  115.1280  23.0256\n",
              "13      4.5   91.2460  18.2492\n",
              "14      5.0   86.4160  17.2832\n",
              "15     10.0   58.7980  11.7596"
            ],
            "text/html": [
              "\n",
              "  <div id=\"df-1402d4ba-1775-4748-8a9d-003b3911fc14\">\n",
              "    <div class=\"colab-df-container\">\n",
              "      <div>\n",
              "<style scoped>\n",
              "    .dataframe tbody tr th:only-of-type {\n",
              "        vertical-align: middle;\n",
              "    }\n",
              "\n",
              "    .dataframe tbody tr th {\n",
              "        vertical-align: top;\n",
              "    }\n",
              "\n",
              "    .dataframe thead th {\n",
              "        text-align: right;\n",
              "    }\n",
              "</style>\n",
              "<table border=\"1\" class=\"dataframe\">\n",
              "  <thead>\n",
              "    <tr style=\"text-align: right;\">\n",
              "      <th></th>\n",
              "      <th>大獎機率(%)</th>\n",
              "      <th>平均石頭</th>\n",
              "      <th>平均抽</th>\n",
              "    </tr>\n",
              "  </thead>\n",
              "  <tbody>\n",
              "    <tr>\n",
              "      <th>0</th>\n",
              "      <td>0.1</td>\n",
              "      <td>238.8390</td>\n",
              "      <td>47.7678</td>\n",
              "    </tr>\n",
              "    <tr>\n",
              "      <th>1</th>\n",
              "      <td>0.2</td>\n",
              "      <td>229.1755</td>\n",
              "      <td>45.8351</td>\n",
              "    </tr>\n",
              "    <tr>\n",
              "      <th>2</th>\n",
              "      <td>0.3</td>\n",
              "      <td>220.3160</td>\n",
              "      <td>44.0632</td>\n",
              "    </tr>\n",
              "    <tr>\n",
              "      <th>3</th>\n",
              "      <td>0.4</td>\n",
              "      <td>211.5660</td>\n",
              "      <td>42.3132</td>\n",
              "    </tr>\n",
              "    <tr>\n",
              "      <th>4</th>\n",
              "      <td>0.5</td>\n",
              "      <td>203.7500</td>\n",
              "      <td>40.7500</td>\n",
              "    </tr>\n",
              "    <tr>\n",
              "      <th>5</th>\n",
              "      <td>0.6</td>\n",
              "      <td>197.3915</td>\n",
              "      <td>39.4783</td>\n",
              "    </tr>\n",
              "    <tr>\n",
              "      <th>6</th>\n",
              "      <td>0.7</td>\n",
              "      <td>191.6595</td>\n",
              "      <td>38.3319</td>\n",
              "    </tr>\n",
              "    <tr>\n",
              "      <th>7</th>\n",
              "      <td>0.8</td>\n",
              "      <td>184.8565</td>\n",
              "      <td>36.9713</td>\n",
              "    </tr>\n",
              "    <tr>\n",
              "      <th>8</th>\n",
              "      <td>0.9</td>\n",
              "      <td>180.0995</td>\n",
              "      <td>36.0199</td>\n",
              "    </tr>\n",
              "    <tr>\n",
              "      <th>9</th>\n",
              "      <td>1.0</td>\n",
              "      <td>173.3250</td>\n",
              "      <td>34.6650</td>\n",
              "    </tr>\n",
              "    <tr>\n",
              "      <th>10</th>\n",
              "      <td>1.5</td>\n",
              "      <td>153.2385</td>\n",
              "      <td>30.6477</td>\n",
              "    </tr>\n",
              "    <tr>\n",
              "      <th>11</th>\n",
              "      <td>2.0</td>\n",
              "      <td>137.6980</td>\n",
              "      <td>27.5396</td>\n",
              "    </tr>\n",
              "    <tr>\n",
              "      <th>12</th>\n",
              "      <td>3.0</td>\n",
              "      <td>115.1280</td>\n",
              "      <td>23.0256</td>\n",
              "    </tr>\n",
              "    <tr>\n",
              "      <th>13</th>\n",
              "      <td>4.5</td>\n",
              "      <td>91.2460</td>\n",
              "      <td>18.2492</td>\n",
              "    </tr>\n",
              "    <tr>\n",
              "      <th>14</th>\n",
              "      <td>5.0</td>\n",
              "      <td>86.4160</td>\n",
              "      <td>17.2832</td>\n",
              "    </tr>\n",
              "    <tr>\n",
              "      <th>15</th>\n",
              "      <td>10.0</td>\n",
              "      <td>58.7980</td>\n",
              "      <td>11.7596</td>\n",
              "    </tr>\n",
              "  </tbody>\n",
              "</table>\n",
              "</div>\n",
              "      <button class=\"colab-df-convert\" onclick=\"convertToInteractive('df-1402d4ba-1775-4748-8a9d-003b3911fc14')\"\n",
              "              title=\"Convert this dataframe to an interactive table.\"\n",
              "              style=\"display:none;\">\n",
              "        \n",
              "  <svg xmlns=\"http://www.w3.org/2000/svg\" height=\"24px\"viewBox=\"0 0 24 24\"\n",
              "       width=\"24px\">\n",
              "    <path d=\"M0 0h24v24H0V0z\" fill=\"none\"/>\n",
              "    <path d=\"M18.56 5.44l.94 2.06.94-2.06 2.06-.94-2.06-.94-.94-2.06-.94 2.06-2.06.94zm-11 1L8.5 8.5l.94-2.06 2.06-.94-2.06-.94L8.5 2.5l-.94 2.06-2.06.94zm10 10l.94 2.06.94-2.06 2.06-.94-2.06-.94-.94-2.06-.94 2.06-2.06.94z\"/><path d=\"M17.41 7.96l-1.37-1.37c-.4-.4-.92-.59-1.43-.59-.52 0-1.04.2-1.43.59L10.3 9.45l-7.72 7.72c-.78.78-.78 2.05 0 2.83L4 21.41c.39.39.9.59 1.41.59.51 0 1.02-.2 1.41-.59l7.78-7.78 2.81-2.81c.8-.78.8-2.07 0-2.86zM5.41 20L4 18.59l7.72-7.72 1.47 1.35L5.41 20z\"/>\n",
              "  </svg>\n",
              "      </button>\n",
              "      \n",
              "  <style>\n",
              "    .colab-df-container {\n",
              "      display:flex;\n",
              "      flex-wrap:wrap;\n",
              "      gap: 12px;\n",
              "    }\n",
              "\n",
              "    .colab-df-convert {\n",
              "      background-color: #E8F0FE;\n",
              "      border: none;\n",
              "      border-radius: 50%;\n",
              "      cursor: pointer;\n",
              "      display: none;\n",
              "      fill: #1967D2;\n",
              "      height: 32px;\n",
              "      padding: 0 0 0 0;\n",
              "      width: 32px;\n",
              "    }\n",
              "\n",
              "    .colab-df-convert:hover {\n",
              "      background-color: #E2EBFA;\n",
              "      box-shadow: 0px 1px 2px rgba(60, 64, 67, 0.3), 0px 1px 3px 1px rgba(60, 64, 67, 0.15);\n",
              "      fill: #174EA6;\n",
              "    }\n",
              "\n",
              "    [theme=dark] .colab-df-convert {\n",
              "      background-color: #3B4455;\n",
              "      fill: #D2E3FC;\n",
              "    }\n",
              "\n",
              "    [theme=dark] .colab-df-convert:hover {\n",
              "      background-color: #434B5C;\n",
              "      box-shadow: 0px 1px 3px 1px rgba(0, 0, 0, 0.15);\n",
              "      filter: drop-shadow(0px 1px 2px rgba(0, 0, 0, 0.3));\n",
              "      fill: #FFFFFF;\n",
              "    }\n",
              "  </style>\n",
              "\n",
              "      <script>\n",
              "        const buttonEl =\n",
              "          document.querySelector('#df-1402d4ba-1775-4748-8a9d-003b3911fc14 button.colab-df-convert');\n",
              "        buttonEl.style.display =\n",
              "          google.colab.kernel.accessAllowed ? 'block' : 'none';\n",
              "\n",
              "        async function convertToInteractive(key) {\n",
              "          const element = document.querySelector('#df-1402d4ba-1775-4748-8a9d-003b3911fc14');\n",
              "          const dataTable =\n",
              "            await google.colab.kernel.invokeFunction('convertToInteractive',\n",
              "                                                     [key], {});\n",
              "          if (!dataTable) return;\n",
              "\n",
              "          const docLinkHtml = 'Like what you see? Visit the ' +\n",
              "            '<a target=\"_blank\" href=https://colab.research.google.com/notebooks/data_table.ipynb>data table notebook</a>'\n",
              "            + ' to learn more about interactive tables.';\n",
              "          element.innerHTML = '';\n",
              "          dataTable['output_type'] = 'display_data';\n",
              "          await google.colab.output.renderOutput(dataTable, element);\n",
              "          const docLink = document.createElement('div');\n",
              "          docLink.innerHTML = docLinkHtml;\n",
              "          element.appendChild(docLink);\n",
              "        }\n",
              "      </script>\n",
              "    </div>\n",
              "  </div>\n",
              "  "
            ]
          },
          "metadata": {},
          "execution_count": 17
        }
      ]
    },
    {
      "cell_type": "code",
      "source": [],
      "metadata": {
        "id": "XuveYZ4Uqn41"
      },
      "execution_count": null,
      "outputs": []
    }
  ],
  "metadata": {
    "colab": {
      "collapsed_sections": [],
      "provenance": []
    },
    "kernelspec": {
      "display_name": "Python 3",
      "name": "python3"
    },
    "widgets": {
      "application/vnd.jupyter.widget-state+json": {
        "2d79caa1bb4c4398aa2a2a654aaf5f81": {
          "model_module": "@jupyter-widgets/controls",
          "model_name": "HBoxModel",
          "model_module_version": "1.5.0",
          "state": {
            "_dom_classes": [],
            "_model_module": "@jupyter-widgets/controls",
            "_model_module_version": "1.5.0",
            "_model_name": "HBoxModel",
            "_view_count": null,
            "_view_module": "@jupyter-widgets/controls",
            "_view_module_version": "1.5.0",
            "_view_name": "HBoxView",
            "box_style": "",
            "children": [
              "IPY_MODEL_b81f135fe7eb421192b6b12b658279d7",
              "IPY_MODEL_ead187b59d5d4489a8eb2de00f2880a1",
              "IPY_MODEL_d5c06e181def4fb98b986fba5cc91212"
            ],
            "layout": "IPY_MODEL_bd569f8588a74719a24ea0cc3e5bc9b1"
          }
        },
        "b81f135fe7eb421192b6b12b658279d7": {
          "model_module": "@jupyter-widgets/controls",
          "model_name": "HTMLModel",
          "model_module_version": "1.5.0",
          "state": {
            "_dom_classes": [],
            "_model_module": "@jupyter-widgets/controls",
            "_model_module_version": "1.5.0",
            "_model_name": "HTMLModel",
            "_view_count": null,
            "_view_module": "@jupyter-widgets/controls",
            "_view_module_version": "1.5.0",
            "_view_name": "HTMLView",
            "description": "",
            "description_tooltip": null,
            "layout": "IPY_MODEL_77b0d4de5dee41979801da450edfa4ec",
            "placeholder": "​",
            "style": "IPY_MODEL_dedb48c9126e4a4b86f9452e9e8783c7",
            "value": "100%"
          }
        },
        "ead187b59d5d4489a8eb2de00f2880a1": {
          "model_module": "@jupyter-widgets/controls",
          "model_name": "FloatProgressModel",
          "model_module_version": "1.5.0",
          "state": {
            "_dom_classes": [],
            "_model_module": "@jupyter-widgets/controls",
            "_model_module_version": "1.5.0",
            "_model_name": "FloatProgressModel",
            "_view_count": null,
            "_view_module": "@jupyter-widgets/controls",
            "_view_module_version": "1.5.0",
            "_view_name": "ProgressView",
            "bar_style": "success",
            "description": "",
            "description_tooltip": null,
            "layout": "IPY_MODEL_b9fc133d2ef3498cb9b56a3dbad4c765",
            "max": 10000,
            "min": 0,
            "orientation": "horizontal",
            "style": "IPY_MODEL_f55e14c9ae2d463aa772fe423d24021c",
            "value": 10000
          }
        },
        "d5c06e181def4fb98b986fba5cc91212": {
          "model_module": "@jupyter-widgets/controls",
          "model_name": "HTMLModel",
          "model_module_version": "1.5.0",
          "state": {
            "_dom_classes": [],
            "_model_module": "@jupyter-widgets/controls",
            "_model_module_version": "1.5.0",
            "_model_name": "HTMLModel",
            "_view_count": null,
            "_view_module": "@jupyter-widgets/controls",
            "_view_module_version": "1.5.0",
            "_view_name": "HTMLView",
            "description": "",
            "description_tooltip": null,
            "layout": "IPY_MODEL_2abca0fbd7f44a7aaee38dc6ceda13a9",
            "placeholder": "​",
            "style": "IPY_MODEL_690fdd9ad89f40d69c9c92b97886d886",
            "value": " 10000/10000 [00:10&lt;00:00, 1087.83it/s]"
          }
        },
        "bd569f8588a74719a24ea0cc3e5bc9b1": {
          "model_module": "@jupyter-widgets/base",
          "model_name": "LayoutModel",
          "model_module_version": "1.2.0",
          "state": {
            "_model_module": "@jupyter-widgets/base",
            "_model_module_version": "1.2.0",
            "_model_name": "LayoutModel",
            "_view_count": null,
            "_view_module": "@jupyter-widgets/base",
            "_view_module_version": "1.2.0",
            "_view_name": "LayoutView",
            "align_content": null,
            "align_items": null,
            "align_self": null,
            "border": null,
            "bottom": null,
            "display": null,
            "flex": null,
            "flex_flow": null,
            "grid_area": null,
            "grid_auto_columns": null,
            "grid_auto_flow": null,
            "grid_auto_rows": null,
            "grid_column": null,
            "grid_gap": null,
            "grid_row": null,
            "grid_template_areas": null,
            "grid_template_columns": null,
            "grid_template_rows": null,
            "height": null,
            "justify_content": null,
            "justify_items": null,
            "left": null,
            "margin": null,
            "max_height": null,
            "max_width": null,
            "min_height": null,
            "min_width": null,
            "object_fit": null,
            "object_position": null,
            "order": null,
            "overflow": null,
            "overflow_x": null,
            "overflow_y": null,
            "padding": null,
            "right": null,
            "top": null,
            "visibility": null,
            "width": null
          }
        },
        "77b0d4de5dee41979801da450edfa4ec": {
          "model_module": "@jupyter-widgets/base",
          "model_name": "LayoutModel",
          "model_module_version": "1.2.0",
          "state": {
            "_model_module": "@jupyter-widgets/base",
            "_model_module_version": "1.2.0",
            "_model_name": "LayoutModel",
            "_view_count": null,
            "_view_module": "@jupyter-widgets/base",
            "_view_module_version": "1.2.0",
            "_view_name": "LayoutView",
            "align_content": null,
            "align_items": null,
            "align_self": null,
            "border": null,
            "bottom": null,
            "display": null,
            "flex": null,
            "flex_flow": null,
            "grid_area": null,
            "grid_auto_columns": null,
            "grid_auto_flow": null,
            "grid_auto_rows": null,
            "grid_column": null,
            "grid_gap": null,
            "grid_row": null,
            "grid_template_areas": null,
            "grid_template_columns": null,
            "grid_template_rows": null,
            "height": null,
            "justify_content": null,
            "justify_items": null,
            "left": null,
            "margin": null,
            "max_height": null,
            "max_width": null,
            "min_height": null,
            "min_width": null,
            "object_fit": null,
            "object_position": null,
            "order": null,
            "overflow": null,
            "overflow_x": null,
            "overflow_y": null,
            "padding": null,
            "right": null,
            "top": null,
            "visibility": null,
            "width": null
          }
        },
        "dedb48c9126e4a4b86f9452e9e8783c7": {
          "model_module": "@jupyter-widgets/controls",
          "model_name": "DescriptionStyleModel",
          "model_module_version": "1.5.0",
          "state": {
            "_model_module": "@jupyter-widgets/controls",
            "_model_module_version": "1.5.0",
            "_model_name": "DescriptionStyleModel",
            "_view_count": null,
            "_view_module": "@jupyter-widgets/base",
            "_view_module_version": "1.2.0",
            "_view_name": "StyleView",
            "description_width": ""
          }
        },
        "b9fc133d2ef3498cb9b56a3dbad4c765": {
          "model_module": "@jupyter-widgets/base",
          "model_name": "LayoutModel",
          "model_module_version": "1.2.0",
          "state": {
            "_model_module": "@jupyter-widgets/base",
            "_model_module_version": "1.2.0",
            "_model_name": "LayoutModel",
            "_view_count": null,
            "_view_module": "@jupyter-widgets/base",
            "_view_module_version": "1.2.0",
            "_view_name": "LayoutView",
            "align_content": null,
            "align_items": null,
            "align_self": null,
            "border": null,
            "bottom": null,
            "display": null,
            "flex": null,
            "flex_flow": null,
            "grid_area": null,
            "grid_auto_columns": null,
            "grid_auto_flow": null,
            "grid_auto_rows": null,
            "grid_column": null,
            "grid_gap": null,
            "grid_row": null,
            "grid_template_areas": null,
            "grid_template_columns": null,
            "grid_template_rows": null,
            "height": null,
            "justify_content": null,
            "justify_items": null,
            "left": null,
            "margin": null,
            "max_height": null,
            "max_width": null,
            "min_height": null,
            "min_width": null,
            "object_fit": null,
            "object_position": null,
            "order": null,
            "overflow": null,
            "overflow_x": null,
            "overflow_y": null,
            "padding": null,
            "right": null,
            "top": null,
            "visibility": null,
            "width": null
          }
        },
        "f55e14c9ae2d463aa772fe423d24021c": {
          "model_module": "@jupyter-widgets/controls",
          "model_name": "ProgressStyleModel",
          "model_module_version": "1.5.0",
          "state": {
            "_model_module": "@jupyter-widgets/controls",
            "_model_module_version": "1.5.0",
            "_model_name": "ProgressStyleModel",
            "_view_count": null,
            "_view_module": "@jupyter-widgets/base",
            "_view_module_version": "1.2.0",
            "_view_name": "StyleView",
            "bar_color": null,
            "description_width": ""
          }
        },
        "2abca0fbd7f44a7aaee38dc6ceda13a9": {
          "model_module": "@jupyter-widgets/base",
          "model_name": "LayoutModel",
          "model_module_version": "1.2.0",
          "state": {
            "_model_module": "@jupyter-widgets/base",
            "_model_module_version": "1.2.0",
            "_model_name": "LayoutModel",
            "_view_count": null,
            "_view_module": "@jupyter-widgets/base",
            "_view_module_version": "1.2.0",
            "_view_name": "LayoutView",
            "align_content": null,
            "align_items": null,
            "align_self": null,
            "border": null,
            "bottom": null,
            "display": null,
            "flex": null,
            "flex_flow": null,
            "grid_area": null,
            "grid_auto_columns": null,
            "grid_auto_flow": null,
            "grid_auto_rows": null,
            "grid_column": null,
            "grid_gap": null,
            "grid_row": null,
            "grid_template_areas": null,
            "grid_template_columns": null,
            "grid_template_rows": null,
            "height": null,
            "justify_content": null,
            "justify_items": null,
            "left": null,
            "margin": null,
            "max_height": null,
            "max_width": null,
            "min_height": null,
            "min_width": null,
            "object_fit": null,
            "object_position": null,
            "order": null,
            "overflow": null,
            "overflow_x": null,
            "overflow_y": null,
            "padding": null,
            "right": null,
            "top": null,
            "visibility": null,
            "width": null
          }
        },
        "690fdd9ad89f40d69c9c92b97886d886": {
          "model_module": "@jupyter-widgets/controls",
          "model_name": "DescriptionStyleModel",
          "model_module_version": "1.5.0",
          "state": {
            "_model_module": "@jupyter-widgets/controls",
            "_model_module_version": "1.5.0",
            "_model_name": "DescriptionStyleModel",
            "_view_count": null,
            "_view_module": "@jupyter-widgets/base",
            "_view_module_version": "1.2.0",
            "_view_name": "StyleView",
            "description_width": ""
          }
        }
      }
    }
  },
  "nbformat": 4,
  "nbformat_minor": 0
}